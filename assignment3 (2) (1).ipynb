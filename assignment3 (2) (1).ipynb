{
 "cells": [
  {
   "cell_type": "markdown",
   "id": "69bc11ea-2121-4116-b69b-8788ce852b71",
   "metadata": {},
   "source": [
    "Q1. Create an empty list."
   ]
  },
  {
   "cell_type": "code",
   "execution_count": 1,
   "id": "132cabe5-4256-4edb-a113-319db63cd7f0",
   "metadata": {},
   "outputs": [
    {
     "name": "stdout",
     "output_type": "stream",
     "text": [
      "<class 'list'>\n"
     ]
    }
   ],
   "source": [
    "a = []\n",
    "print(type(a))"
   ]
  },
  {
   "cell_type": "markdown",
   "id": "ea790f17-8551-46ad-8c99-18281f256cd6",
   "metadata": {},
   "source": [
    "Q2. Create a list and add an element to the end of this list."
   ]
  },
  {
   "cell_type": "code",
   "execution_count": 2,
   "id": "36dd0e39-b938-40d9-8530-dacda9a61256",
   "metadata": {},
   "outputs": [
    {
     "name": "stdout",
     "output_type": "stream",
     "text": [
      "[1, 2, 3, 4, 5]\n"
     ]
    }
   ],
   "source": [
    "a = [1,2,3,4]\n",
    "a.append(5)\n",
    "print(a)"
   ]
  },
  {
   "cell_type": "markdown",
   "id": "309e7ac5-a8d7-4f46-afa4-bcf971e380fe",
   "metadata": {},
   "source": [
    "Q3. For the above created list print the last element."
   ]
  },
  {
   "cell_type": "code",
   "execution_count": 3,
   "id": "f94d4e4b-34c6-4d27-bc00-5a91e4c05960",
   "metadata": {},
   "outputs": [
    {
     "name": "stdout",
     "output_type": "stream",
     "text": [
      "5\n"
     ]
    }
   ],
   "source": [
    "y = 0\n",
    "for i in a:\n",
    "    y = i\n",
    "    i = i + 1\n",
    "print(y)    "
   ]
  },
  {
   "cell_type": "markdown",
   "id": "1c133e5d-4425-42db-b8b2-b565da636d06",
   "metadata": {},
   "source": [
    "Q4. Reverse the above created list."
   ]
  },
  {
   "cell_type": "code",
   "execution_count": 4,
   "id": "ba9466a4-0345-44f8-9934-923f3b499872",
   "metadata": {},
   "outputs": [
    {
     "name": "stdout",
     "output_type": "stream",
     "text": [
      "[5, 4, 3, 2, 1]\n"
     ]
    }
   ],
   "source": [
    "a.reverse()\n",
    "print(a)"
   ]
  },
  {
   "cell_type": "markdown",
   "id": "60a53521-97aa-4c3c-aa1e-b0d80e517f97",
   "metadata": {},
   "source": [
    "Q5. Sort the above created list."
   ]
  },
  {
   "cell_type": "code",
   "execution_count": 5,
   "id": "b2f6a9ce-d9c7-4f0e-9e06-0700ef2ce7a1",
   "metadata": {},
   "outputs": [
    {
     "name": "stdout",
     "output_type": "stream",
     "text": [
      "[1, 2, 3, 4, 5]\n"
     ]
    }
   ],
   "source": [
    "a.sort()\n",
    "print(a)"
   ]
  },
  {
   "cell_type": "markdown",
   "id": "3008d70b-b502-4b57-b0bb-8b68f75ecac6",
   "metadata": {},
   "source": [
    "Q6. Create a list of your top three favorite movies,then print the second movies title."
   ]
  },
  {
   "cell_type": "code",
   "execution_count": 6,
   "id": "c9f07514-daef-4577-a56d-7742b37d08de",
   "metadata": {},
   "outputs": [
    {
     "name": "stdout",
     "output_type": "stream",
     "text": [
      "war\n"
     ]
    }
   ],
   "source": [
    "a = [\"asur\",\"war\",\"3 idiot\"]\n",
    "print(a[1])"
   ]
  },
  {
   "cell_type": "markdown",
   "id": "3f6c7a01-2ece-4d9e-99f3-9ea532433bac",
   "metadata": {},
   "source": [
    "Q7. Create a list of your favorite animals,then add a new animal to the list and print the updated list."
   ]
  },
  {
   "cell_type": "code",
   "execution_count": 7,
   "id": "35a59789-3ec2-4540-b062-e1f3615407e8",
   "metadata": {},
   "outputs": [
    {
     "name": "stdout",
     "output_type": "stream",
     "text": [
      "['dog', 'cow', 'cat', 'bull']\n"
     ]
    }
   ],
   "source": [
    "a = [\"dog\",\"cow\",\"cat\"]\n",
    "a.append(\"bull\")\n",
    "print(a)"
   ]
  },
  {
   "cell_type": "markdown",
   "id": "452245fa-5f7a-47ff-b6bf-75c98a6f065c",
   "metadata": {},
   "source": [
    "Q8. Create a list of your favorite cities,then use the index() method to find the position of a specific city on the list and print it."
   ]
  },
  {
   "cell_type": "code",
   "execution_count": 10,
   "id": "053f9251-feb2-450d-8c1f-547878057a78",
   "metadata": {},
   "outputs": [
    {
     "name": "stdout",
     "output_type": "stream",
     "text": [
      "2\n"
     ]
    }
   ],
   "source": [
    "a = [\"agra\",\"jaipur\",\"muz\"]\n",
    "print(a.index(\"muz\"))"
   ]
  },
  {
   "cell_type": "code",
   "execution_count": null,
   "id": "195b310a-58f0-44b5-8496-fd96868da70a",
   "metadata": {},
   "outputs": [],
   "source": []
  }
 ],
 "metadata": {
  "kernelspec": {
   "display_name": "Python 3 (ipykernel)",
   "language": "python",
   "name": "python3"
  },
  "language_info": {
   "codemirror_mode": {
    "name": "ipython",
    "version": 3
   },
   "file_extension": ".py",
   "mimetype": "text/x-python",
   "name": "python",
   "nbconvert_exporter": "python",
   "pygments_lexer": "ipython3",
   "version": "3.10.8"
  }
 },
 "nbformat": 4,
 "nbformat_minor": 5
}
